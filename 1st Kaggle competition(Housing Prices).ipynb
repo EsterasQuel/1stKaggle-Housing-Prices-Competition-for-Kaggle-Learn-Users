{
 "cells": [
  {
   "cell_type": "code",
   "execution_count": 18,
   "metadata": {},
   "outputs": [],
   "source": [
    "import pandas as pd\n",
    "import numpy as np\n",
    "from sklearn.metrics import mean_absolute_error\n",
    "from sklearn.model_selection import train_test_split\n",
    "from sklearn.tree import DecisionTreeRegressor\n",
    "from sklearn.ensemble import RandomForestRegressor\n",
    "from sklearn.ensemble import RandomForestClassifier\n",
    "from sklearn.ensemble import GradientBoostingClassifier\n",
    "from sklearn import preprocessing\n",
    "from sklearn import utils\n",
    "from sklearn import ensemble\n",
    "import matplotlib.pyplot as plt\n",
    "from sklearn.svm import SVC\n",
    "from sklearn.linear_model import LinearRegression"
   ]
  },
  {
   "cell_type": "code",
   "execution_count": 2,
   "metadata": {},
   "outputs": [],
   "source": [
    "test_table=pd.read_csv('test.csv')\n",
    "train_table=pd.read_csv('train.csv')"
   ]
  },
  {
   "cell_type": "code",
   "execution_count": 3,
   "metadata": {},
   "outputs": [],
   "source": [
    "categorical_columns_test = [c for c in test_table.columns if test_table[c].dtype.name == 'object']\n",
    "numerical_columns_test   = [c for c in test_table.columns if test_table[c].dtype.name != 'object']\n",
    "categorical_columns_train = [c for c in train_table.columns if train_table[c].dtype.name == 'object']\n",
    "numerical_columns_train   = [c for c in train_table.columns if train_table[c].dtype.name != 'object']"
   ]
  },
  {
   "cell_type": "code",
   "execution_count": 4,
   "metadata": {},
   "outputs": [],
   "source": [
    "test_table = test_table.fillna(test_table.median(axis=0), axis=0)\n",
    "train_table = train_table.fillna(train_table.median(axis=0), axis=0)\n",
    "train_table_describe = train_table.describe(include=[object])\n",
    "test_table_describe = test_table.describe(include=[object])"
   ]
  },
  {
   "cell_type": "code",
   "execution_count": 5,
   "metadata": {},
   "outputs": [],
   "source": [
    "binary_columns_train    = [c for c in categorical_columns_train if train_table_describe[c]['unique'] == 2]\n",
    "nonbinary_columns_train = [c for c in categorical_columns_train if train_table_describe[c]['unique'] > 2]\n",
    "binary_columns_test    = [c for c in categorical_columns_test if test_table_describe[c]['unique'] == 2]\n",
    "nonbinary_columns_test = [c for c in categorical_columns_test if test_table_describe[c]['unique'] > 2]"
   ]
  },
  {
   "cell_type": "code",
   "execution_count": 6,
   "metadata": {},
   "outputs": [],
   "source": [
    "for c in binary_columns_test[1:]:\n",
    "    top = test_table_describe[c]['top']\n",
    "    top_items = test_table[c] == top\n",
    "    test_table.loc[top_items, c] = 0\n",
    "    test_table.loc[np.logical_not(top_items), c] = 1\n",
    "for c in binary_columns_train[1:]:\n",
    "    top = train_table_describe[c]['top']\n",
    "    top_items = train_table[c] == top\n",
    "    train_table.loc[top_items, c] = 0\n",
    "    train_table.loc[np.logical_not(top_items), c] = 1"
   ]
  },
  {
   "cell_type": "code",
   "execution_count": 7,
   "metadata": {},
   "outputs": [],
   "source": [
    "test_nonbinary = pd.get_dummies(test_table[nonbinary_columns_test])\n",
    "train_nonbinary = pd.get_dummies(train_table[nonbinary_columns_train])"
   ]
  },
  {
   "cell_type": "code",
   "execution_count": 8,
   "metadata": {},
   "outputs": [],
   "source": [
    "test = pd.concat((test_table[numerical_columns_test], test_table[binary_columns_test], test_nonbinary), axis=1)\n",
    "train = pd.concat((train_table[numerical_columns_train], train_table[binary_columns_train], train_nonbinary), axis=1)"
   ]
  },
  {
   "cell_type": "code",
   "execution_count": 9,
   "metadata": {},
   "outputs": [],
   "source": [
    "test=test.drop(\"Street\",axis=1)\n",
    "train=train.drop(\"Street\", axis=1)"
   ]
  },
  {
   "cell_type": "code",
   "execution_count": 30,
   "metadata": {},
   "outputs": [],
   "source": [
    "test=test.drop(['PoolQC'],axis=1)"
   ]
  },
  {
   "cell_type": "code",
   "execution_count": 10,
   "metadata": {},
   "outputs": [],
   "source": [
    "train_y=train.SalePrice\n",
    "train_x=train.drop('SalePrice', axis=1)\n",
    "X_train, X_test, y_train, y_test = train_test_split(train_x, train_y, test_size = 0.3, random_state = 11)"
   ]
  },
  {
   "cell_type": "code",
   "execution_count": 11,
   "metadata": {},
   "outputs": [],
   "source": [
    "iowa_model = RandomForestClassifier(n_estimators=1000, random_state=11)\n",
    "iowa_model.fit(X_train, y_train)\n",
    "val_predictions = iowa_model.predict(X_test)"
   ]
  },
  {
   "cell_type": "code",
   "execution_count": 12,
   "metadata": {},
   "outputs": [
    {
     "data": {
      "text/plain": [
       "22516.73287671233"
      ]
     },
     "execution_count": 12,
     "metadata": {},
     "output_type": "execute_result"
    }
   ],
   "source": [
    "mean_absolute_error(val_predictions, y_test)"
   ]
  },
  {
   "cell_type": "code",
   "execution_count": 13,
   "metadata": {},
   "outputs": [
    {
     "name": "stderr",
     "output_type": "stream",
     "text": [
      "/home/dmitriy/.local/lib/python3.7/site-packages/sklearn/ensemble/forest.py:245: FutureWarning: The default value of n_estimators will change from 10 in version 0.20 to 100 in 0.22.\n",
      "  \"10 in version 0.20 to 100 in 0.22.\", FutureWarning)\n"
     ]
    }
   ],
   "source": [
    "iowa_model = RandomForestClassifier()\n",
    "iowa_model.fit(X_train, y_train)\n",
    "val_predictions = iowa_model.predict(X_test)"
   ]
  },
  {
   "cell_type": "code",
   "execution_count": 14,
   "metadata": {},
   "outputs": [
    {
     "data": {
      "text/plain": [
       "43856.43378995434"
      ]
     },
     "execution_count": 14,
     "metadata": {},
     "output_type": "execute_result"
    }
   ],
   "source": [
    "mean_absolute_error(val_predictions, y_test)"
   ]
  },
  {
   "cell_type": "code",
   "execution_count": 15,
   "metadata": {},
   "outputs": [
    {
     "data": {
      "text/plain": [
       "45005.77168949772"
      ]
     },
     "execution_count": 15,
     "metadata": {},
     "output_type": "execute_result"
    }
   ],
   "source": [
    "gbt = ensemble.GradientBoostingClassifier(n_estimators=100, random_state=11)\n",
    "gbt.fit(X_train, y_train)\n",
    "val_predictions = gbt.predict(X_test)\n",
    "mean_absolute_error(val_predictions, y_test)"
   ]
  },
  {
   "cell_type": "code",
   "execution_count": 21,
   "metadata": {},
   "outputs": [
    {
     "data": {
      "text/plain": [
       "18655.48616751691"
      ]
     },
     "execution_count": 21,
     "metadata": {},
     "output_type": "execute_result"
    }
   ],
   "source": [
    "reg = LinearRegression().fit(X_train, y_train)\n",
    "val_predictions = reg.predict(X_test)\n",
    "mean_absolute_error(val_predictions, y_test)\n",
    "#Best one"
   ]
  },
  {
   "cell_type": "code",
   "execution_count": 31,
   "metadata": {},
   "outputs": [],
   "source": [
    "reg = LinearRegression().fit(train_x[test.columns], train_y)\n",
    "val_predictions = reg.predict(test)"
   ]
  },
  {
   "cell_type": "code",
   "execution_count": 32,
   "metadata": {},
   "outputs": [],
   "source": [
    "df = pd.DataFrame({'Id': test_table.Id, 'SalePrice': val_predictions})\n",
    "df.to_csv('qwe.csv', encoding='utf-8', index=False)"
   ]
  }
 ],
 "metadata": {
  "kernelspec": {
   "display_name": "Python 3",
   "language": "python",
   "name": "python3"
  },
  "language_info": {
   "codemirror_mode": {
    "name": "ipython",
    "version": 3
   },
   "file_extension": ".py",
   "mimetype": "text/x-python",
   "name": "python",
   "nbconvert_exporter": "python",
   "pygments_lexer": "ipython3",
   "version": "3.7.4"
  }
 },
 "nbformat": 4,
 "nbformat_minor": 2
}
